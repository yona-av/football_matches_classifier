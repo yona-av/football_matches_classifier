{
 "cells": [
  {
   "cell_type": "markdown",
   "id": "a496c99c",
   "metadata": {},
   "source": [
    "# Football matches binary classifier \n"
   ]
  },
  {
   "cell_type": "markdown",
   "id": "36d76869",
   "metadata": {},
   "source": [
    "## Abstract \n",
    "In this project I created a binary classifier (win vs lose and draw). The ability to predic if a team will win, based on match statistics, could be very usefull tool to gain insights. Such a model could be used by a coaching staff of a team, for example develope a more targeted work on attributes that are highly correlated to winning. Another market that could benefit from this kind of a model is the betting market.\n",
    "\n",
    "I gathered the data from rbref.com with a scraper I wrote using BeautifulSoup. Then I did EDA and some data-processing that mostly included dealing with nan values. The next step was feature selction using: p-value test, correlation test and omitting features tha might indicate a win (e.g scored_goals, clean_sheet). \n",
    "For the training part I tried three different classifiers : **RandomForest**, **SGD** and **logistic regression** which gave the best results : **f-score** = 0.82 and cross-validation cv=3, gave an average of **0.82**, **0.79**, **0.78** for **accuracy**, **precision** and **recall** accordingly. \n",
    "The **prediction** using logistic regression classifier gave the the following results: \n",
    "* **f-score** : 0.79\n",
    "* **accuracy** : 0.83\n",
    "\n"
   ]
  },
  {
   "cell_type": "markdown",
   "id": "9385b8fc",
   "metadata": {},
   "source": [
    "## Data part - Scraping, Processing and Analysis \n",
    "* **Scraping:**\n",
    "      In order to gather the data for this project I wrote a web scraper using BeautifulSoup package. It scraped the data from the sporsts statistics website fbref.com. The matches I included are from the LaLiga (first spanish football   division) seasones 2017-2022. I included the teams that participated in LA-Liga for those five consecutive seasones (in other words the teams that didnt relegate).\n",
    "\n",
    "* **Processing:**  \n",
    "     - Filling nan values either with a specific value that made sense to this attribute (as can be seen in the                       code(need to link)) or with the average of the column if the nans were under 10% of all the values in the feature.\n",
    "     \n",
    "     - Omitting categorical features that doesn't contribute \n",
    "     - Converting string categorical features into numerical categorical features \n",
    "          \n",
    "\n",
    "* **Analysis:**\n",
    "      By plotting the histograms of the features it was possible to see that the data was either distributed normally  or  some decaying. there were no outliers except of one attribute('gk_save_pct').   \n",
    "\n",
    "\n",
    "\n",
    "    \n",
    "       \n",
    "    \n",
    "\n"
   ]
  },
  {
   "cell_type": "markdown",
   "id": "26608a35",
   "metadata": {},
   "source": [
    "## Feature selection \n",
    "After processing the data, inspecting its distributions made sense and dividing the data set into train and test set. \n",
    "I started the feature selection/ elimination part. At the beginning there were 167 features. The most necessary elimination was the features that highly idicates a win e.g - goals_scored, Assists etc. This elimination step left 135 features. \n",
    "Running a quick test at the current situation gave these results: (!!!!!need to add a table here!!!!!)\n",
    "\n",
    "\n",
    "As it is seen from the table there is a need for more feature selection filters. Hence I used p-value test and correlation test between features. At the end the feature selection test conssited of three steps : \n",
    "\n",
    "1.   **P-value test** \n",
    "         The test calculates the P-value between the target feature and all the other features. If the value is larger then a chosen threshold (alpha) then the relationship between the target and the feature is coincidental and the feature is dropped. Otherwise it indicates that there is a statistical significance between them."
   ]
  },
  {
   "cell_type": "code",
   "execution_count": null,
   "id": "969d65d3",
   "metadata": {},
   "outputs": [],
   "source": []
  },
  {
   "cell_type": "code",
   "execution_count": null,
   "id": "1fbf4dda",
   "metadata": {},
   "outputs": [],
   "source": []
  }
 ],
 "metadata": {
  "kernelspec": {
   "display_name": "Python 3 (ipykernel)",
   "language": "python",
   "name": "python3"
  },
  "language_info": {
   "codemirror_mode": {
    "name": "ipython",
    "version": 3
   },
   "file_extension": ".py",
   "mimetype": "text/x-python",
   "name": "python",
   "nbconvert_exporter": "python",
   "pygments_lexer": "ipython3",
   "version": "3.8.10"
  }
 },
 "nbformat": 4,
 "nbformat_minor": 5
}
