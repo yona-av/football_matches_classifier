{
 "cells": [
  {
   "cell_type": "code",
   "execution_count": 1,
   "id": "6d85db3a",
   "metadata": {},
   "outputs": [],
   "source": [
    "import urllib.request\n",
    "from bs4 import BeautifulSoup as bs\n",
    "import re\n",
    "import pandas as pd "
   ]
  },
  {
   "cell_type": "code",
   "execution_count": 16,
   "id": "47776d0b",
   "metadata": {},
   "outputs": [],
   "source": [
    "def data_rbref_df(a,year,b,category,c,number_of_headers):\n",
    "    url=(a+year+b+category+c)\n",
    "    #print(url)\n",
    "    page = urllib.request.urlopen(url)\n",
    "    soup = bs(page)\n",
    "    #print(soup)\n",
    "    td_s = soup.body.findAll('td') # targets the data table at the url page \n",
    "    data_cells = (str(td_s)).split(',') # gives me each data cell as an index in a list \n",
    "    #print(data_cells[11])\n",
    "    #print(len(data_cells))\n",
    "    table_header_temp=[]\n",
    "    table_data_temp=[]\n",
    "    table_header=[]\n",
    "    table_data=[]\n",
    "\n",
    "    #find in the html text data headers and data itself \n",
    "    for cells in data_cells:\n",
    "        table_header_temp.append(re.findall('data-stat=\"\\w+\"', cells))\n",
    "        table_data_temp.append(re.findall('>(.*?)<', cells))\n",
    "\n",
    "    table_header = [(str(item).split('=')[1][1:-3]) for item in table_header_temp]\n",
    "\n",
    "    for i in table_data_temp:\n",
    "        table_data.append(''.join(s for s in i if s)) # omit empty items in list\n",
    "\n",
    "\n",
    "    #print(type(table_header[17]))\n",
    "    #print(type(table_data[17]))\n",
    "\n",
    "    keys_header = table_header[0:number_of_headers]\n",
    "    values_data = [[] for i in range(len(keys_header))]\n",
    "    number_of_games=38\n",
    "    #print(number_of_games)\n",
    "\n",
    "    for i in range(len(keys_header)):\n",
    "        for j in range(number_of_games):\n",
    "            values_data[i].append(table_data[i+j*len(keys_header)])\n",
    "\n",
    "    my_dict = dict(zip(keys_header, values_data))\n",
    "    df = pd.DataFrame.from_dict(my_dict)\n",
    "    df = df.drop(columns=['match_report'])\n",
    "    return df"
   ]
  },
  {
   "cell_type": "code",
   "execution_count": null,
   "id": "ac6738e6",
   "metadata": {},
   "outputs": [],
   "source": []
  },
  {
   "cell_type": "code",
   "execution_count": 17,
   "id": "18289b22",
   "metadata": {},
   "outputs": [],
   "source": [
    "#'https://fbref.com/en/squads/206d90db/2020-2021/matchlogs/c12/keeper/Barcelona-Scores-and-Fixtures-La-Liga'\n",
    "\n",
    "cat=['keeper', 'defense', 'possession', 'passing', 'passing_types', 'gca', 'shooting', 'misc' ]\n",
    "num_headers_percat=[35,32,34,30,34,23,24,25] #17 for schedule\n",
    "years=['2017-2018', '2018-2019', '2019-2020', '2020-2021', '2021-2022']\n",
    "a='https://fbref.com/en/squads/206d90db/'\n",
    "b='/matchlogs/c12/'\n",
    "category='schedule'\n",
    "c='/Barcelona-Scores-and-Fixtures-La-Liga'\n",
    "\n",
    "# empty lists for temp calcs\n",
    "list_dfs = [[] for l in range(len(years))]\n",
    "temp_df = [[] for l in range(len(years))]\n",
    "df_temp = [[] for l in range(len(years))]\n",
    "\n",
    "# manipulate df of each year to create df for 2017-2022  \n",
    "for j in range(len(years)):\n",
    "    for i in range(len(cat)):\n",
    "        list_dfs[j].append(data_rbref_df(a,years[j],b,cat[i],c,num_headers_percat[i]))\n",
    "    temp_df[j] = pd.concat(list_dfs[j][1:], axis=1)\n",
    "    temp_df[j] = temp_df[j].drop(columns=['start_time', 'round', 'dayofweek', 'venue', 'result', 'goals_for','goals_against', 'opponent'])\n",
    "    df_temp[j] = pd.concat([list_dfs[j][0],temp_df[j]],axis=1)\n",
    "\n",
    "df = pd.concat(df_temp , axis=0)\n",
    "df.info\n",
    "df.to_csv('barca_data.csv')\n",
    "        \n",
    "\n",
    "#with pd.option_context('display.max_rows', None, 'display.max_columns', None):  # more options can be specified also\n",
    "    #print(df)\n",
    "\n",
    "\n",
    "    \n"
   ]
  },
  {
   "cell_type": "code",
   "execution_count": null,
   "id": "cac7eeb2",
   "metadata": {},
   "outputs": [],
   "source": []
  },
  {
   "cell_type": "code",
   "execution_count": null,
   "id": "3a4b0ee0",
   "metadata": {},
   "outputs": [],
   "source": []
  }
 ],
 "metadata": {
  "kernelspec": {
   "display_name": "Python 3 (ipykernel)",
   "language": "python",
   "name": "python3"
  },
  "language_info": {
   "codemirror_mode": {
    "name": "ipython",
    "version": 3
   },
   "file_extension": ".py",
   "mimetype": "text/x-python",
   "name": "python",
   "nbconvert_exporter": "python",
   "pygments_lexer": "ipython3",
   "version": "3.8.10"
  }
 },
 "nbformat": 4,
 "nbformat_minor": 5
}
