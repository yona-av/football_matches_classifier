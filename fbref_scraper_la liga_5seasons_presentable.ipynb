{
 "cells": [
  {
   "cell_type": "code",
   "execution_count": 1,
   "id": "6d85db3a",
   "metadata": {},
   "outputs": [],
   "source": [
    "import urllib.request\n",
    "from bs4 import BeautifulSoup as bs\n",
    "import re\n",
    "import pandas as pd "
   ]
  },
  {
   "cell_type": "code",
   "execution_count": 2,
   "id": "47776d0b",
   "metadata": {},
   "outputs": [],
   "source": [
    "def data_rbref_df(a,year,b,category,c,number_of_headers):\n",
    "    url=(a+year+b+category+c)\n",
    "    page = urllib.request.urlopen(url)\n",
    "    soup = bs(page)\n",
    "    td_s = soup.body.findAll('td') # targets the data table at the url page \n",
    "    data_cells = (str(td_s)).split(',') # gives me each data cell as an index in a list \n",
    "    \n",
    "    table_header_temp=[]\n",
    "    table_data_temp=[]\n",
    "    table_header=[]\n",
    "    table_data=[]\n",
    "\n",
    "    #find in the html text data headers and data itself \n",
    "    for cells in data_cells:\n",
    "        table_header_temp.append(re.findall('data-stat=\"\\w+\"', cells))\n",
    "        table_data_temp.append(re.findall('>(.*?)<', cells))\n",
    "\n",
    "    table_header = [(str(item).split('=')[1][1:-3]) for item in table_header_temp]\n",
    "\n",
    "    for i in table_data_temp:\n",
    "        table_data.append(''.join(s for s in i if s)) # omit empty items in list\n",
    "\n",
    "\n",
    "    keys_header = table_header[0:number_of_headers]\n",
    "    values_data = [[] for i in range(len(keys_header))]\n",
    "    number_of_games=38\n",
    "   \n",
    "\n",
    "    for i in range(len(keys_header)):\n",
    "        for j in range(number_of_games):\n",
    "            values_data[i].append(table_data[i+j*len(keys_header)])\n",
    "\n",
    "    my_dict = dict(zip(keys_header, values_data))\n",
    "    df = pd.DataFrame.from_dict(my_dict)\n",
    "    df = df.drop(columns=['match_report'])\n",
    "    return df\n",
    "\n",
    "def df_5_seasons_perteam(team, db_id):\n",
    "    \n",
    "    cat=['keeper', 'defense', 'possession', 'passing', 'passing_types', 'gca', 'shooting', 'misc' ]\n",
    "    num_headers_percat=[35,32,34,30,34,23,24,25] #17 for schedule\n",
    "    years=['2017-2018', '2018-2019', '2019-2020', '2020-2021', '2021-2022']\n",
    "    \n",
    "    a=('https://fbref.com/en/squads'+ db_id)\n",
    "    b='/matchlogs/c12/'\n",
    "    c=('//'+team+'-Match-Logs-La-Liga')\n",
    "\n",
    "    # empty lists for temp calcs\n",
    "    list_dfs = [[] for l in range(len(years))]\n",
    "    temp_df = [[] for l in range(len(years))]\n",
    "    df_temp = [[] for l in range(len(years))]\n",
    "\n",
    "    # manipulate df of each year to create df for 2017-2022  \n",
    "    for y in range(len(years)):\n",
    "        for ca in range(len(cat)):\n",
    "            list_dfs[y].append(data_rbref_df(a,years[y],b,cat[ca],c,num_headers_percat[ca]))\n",
    "        temp_df[y] = pd.concat(list_dfs[y][1:], axis=1)\n",
    "        temp_df[y] = temp_df[y].drop(columns=['start_time', 'round', 'dayofweek', 'venue', 'result', 'goals_for','goals_against', 'opponent'])\n",
    "        df_temp[y] = pd.concat([list_dfs[y][0],temp_df[y]],axis=1)\n",
    "\n",
    "    df = pd.concat(df_temp , axis=0)\n",
    "    return df "
   ]
  },
  {
   "cell_type": "code",
   "execution_count": 3,
   "id": "d8ee7608",
   "metadata": {},
   "outputs": [
    {
     "name": "stdout",
     "output_type": "stream",
     "text": [
      "<class 'pandas.core.frame.DataFrame'>\n",
      "Int64Index: 1140 entries, 0 to 37\n",
      "Columns: 173 entries, start_time to aerials_won_pct\n",
      "dtypes: object(173)\n",
      "memory usage: 1.5+ MB\n"
     ]
    }
   ],
   "source": [
    "#I divided all the teams into three groups so that if a link is broken not all is gone \n",
    "\n",
    "teams = ['Sevilla', 'Athletic-Club', 'Barcelona', 'Celta-Vigo', 'Real-Madrid', 'Real-Sociedad'] \n",
    "cor_db_id = ['/ad2be733/','/2b390eca/', '/206d90db/', '/f25da7fb/', '/53a2f082/', '/e31d1cd9/']  #team's corresponding data_base id \n",
    "la_liga_df_temp1 = []\n",
    "\n",
    "for t in range(len(teams)):\n",
    "    la_liga_df_temp1.append(df_5_seasons_perteam(teams[t], cor_db_id[t]))\n",
    "\n",
    "df_1 = pd.concat(la_liga_df_temp1, axis=0)\n",
    "df_1.info()\n",
    "\n",
    "                           \n"
   ]
  },
  {
   "cell_type": "code",
   "execution_count": 4,
   "id": "873cf924",
   "metadata": {},
   "outputs": [
    {
     "name": "stdout",
     "output_type": "stream",
     "text": [
      "<class 'pandas.core.frame.DataFrame'>\n",
      "Int64Index: 760 entries, 0 to 37\n",
      "Columns: 173 entries, start_time to aerials_won_pct\n",
      "dtypes: object(173)\n",
      "memory usage: 1.0+ MB\n"
     ]
    }
   ],
   "source": [
    "teams = ['Valencia', 'Villarreal', 'Atletico-Madrid', 'Betis']\n",
    "cor_db_id = ['/dcc91a7b/', '/2a8183b3/', '/db3b9613/', '/fc536746/']\n",
    "\n",
    "la_liga_df_temp2 = []\n",
    "\n",
    "for t in range(len(teams)):\n",
    "    la_liga_df_temp2.append(df_5_seasons_perteam(teams[t], cor_db_id[t]))\n",
    "\n",
    "df_2 = pd.concat(la_liga_df_temp2, axis=0)\n",
    "df_2.info()"
   ]
  },
  {
   "cell_type": "code",
   "execution_count": 5,
   "id": "70b67713",
   "metadata": {},
   "outputs": [
    {
     "name": "stdout",
     "output_type": "stream",
     "text": [
      "<class 'pandas.core.frame.DataFrame'>\n",
      "Int64Index: 570 entries, 0 to 37\n",
      "Columns: 173 entries, start_time to aerials_won_pct\n",
      "dtypes: object(173)\n",
      "memory usage: 774.8+ KB\n"
     ]
    }
   ],
   "source": [
    "teams = ['Levante', 'Getafe', 'Alavs']\n",
    "cor_db_id = ['/9800b6a1/', '/7848bd64/', '/8d6fd021/']\n",
    "\n",
    "la_liga_df_temp3 = []\n",
    "\n",
    "for t in range(len(teams)):\n",
    "    la_liga_df_temp3.append(df_5_seasons_perteam(teams[t], cor_db_id[t]))\n",
    "\n",
    "df_3 = pd.concat(la_liga_df_temp3, axis=0)\n",
    "df_3.info()"
   ]
  },
  {
   "cell_type": "code",
   "execution_count": 6,
   "id": "8809b2b2",
   "metadata": {},
   "outputs": [
    {
     "name": "stdout",
     "output_type": "stream",
     "text": [
      "<class 'pandas.core.frame.DataFrame'>\n",
      "Int64Index: 2470 entries, 0 to 37\n",
      "Columns: 173 entries, start_time to aerials_won_pct\n",
      "dtypes: object(173)\n",
      "memory usage: 3.3+ MB\n"
     ]
    }
   ],
   "source": [
    "df = pd.concat([df_1, df_2, df_3], axis=0)\n",
    "df.info()\n",
    "df.to_csv('la_liga_data.csv')"
   ]
  },
  {
   "cell_type": "code",
   "execution_count": 8,
   "id": "18289b22",
   "metadata": {},
   "outputs": [],
   "source": [
    "teams =['Sevilla', 'Athletic-Club', 'Barcelona', 'Celta-Vigo', 'Real-Madrid', 'Real-Sociedad', 'Valencia', 'Villarreal', 'Atletico-Madrid', 'Betis', 'Levante', 'Getafe', 'Alavs']\n",
    "cor_db_id=['ad2be733','2b390eca', '206d90db', 'f25da7fb', '53a2f082', 'e31d1cd9', 'dcc91a7b', '2a8183b3', 'db3b9613', 'fc536746', '9800b6a1', '7848bd64', '8d6fd021']\n"
   ]
  },
  {
   "cell_type": "code",
   "execution_count": null,
   "id": "cac7eeb2",
   "metadata": {},
   "outputs": [],
   "source": []
  },
  {
   "cell_type": "code",
   "execution_count": null,
   "id": "61794fb1",
   "metadata": {},
   "outputs": [],
   "source": []
  },
  {
   "cell_type": "code",
   "execution_count": null,
   "id": "d1de1bb4",
   "metadata": {},
   "outputs": [],
   "source": []
  },
  {
   "cell_type": "code",
   "execution_count": null,
   "id": "92929016",
   "metadata": {},
   "outputs": [],
   "source": []
  },
  {
   "cell_type": "code",
   "execution_count": null,
   "id": "a7a8a99e",
   "metadata": {},
   "outputs": [],
   "source": []
  }
 ],
 "metadata": {
  "kernelspec": {
   "display_name": "Python 3 (ipykernel)",
   "language": "python",
   "name": "python3"
  },
  "language_info": {
   "codemirror_mode": {
    "name": "ipython",
    "version": 3
   },
   "file_extension": ".py",
   "mimetype": "text/x-python",
   "name": "python",
   "nbconvert_exporter": "python",
   "pygments_lexer": "ipython3",
   "version": "3.8.10"
  }
 },
 "nbformat": 4,
 "nbformat_minor": 5
}
