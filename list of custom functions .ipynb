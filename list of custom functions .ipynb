{
 "cells": [
  {
   "cell_type": "code",
   "execution_count": 1,
   "id": "418e96a6",
   "metadata": {},
   "outputs": [],
   "source": [
    "# import modules \n",
    "import numpy as np \n",
    "import pandas as pd\n",
    "import matplotlib.pyplot as plt\n",
    "import os \n",
    "import sys\n",
    "from sklearn.model_selection import train_test_split\n",
    "import seaborn as sns\n",
    "\n",
    "%matplotlib inline\n"
   ]
  },
  {
   "cell_type": "code",
   "execution_count": 5,
   "id": "080f8d31",
   "metadata": {},
   "outputs": [],
   "source": [
    "# convert all df to float 64  \n",
    "def turn_to_float64(df):\n",
    "    columns_names = list(df)\n",
    "    df_np = df.to_numpy()\n",
    "    df = pd.DataFrame(df_np, columns = columns_names)\n",
    "    return df\n",
    "\n",
    "# substitute nans with average value of the column ,if sum of nans pass the precentage given\n",
    "#possible to change it later to median,custom value and other options \n",
    "def deal_nans(df, percantage_nan):\n",
    "    nans = df[df.columns[df.isnull().any()]]\n",
    "    nan_col_names = list(nans)\n",
    "    for i in nan_col_names:\n",
    "        count_nan = df[i].isnull().sum()\n",
    "        if count_nan/len(df[i]) >= 0.1:       # if nans are more than 10% delete column \n",
    "            df = df.drop(columns=[i])\n",
    "        else:\n",
    "            col_avg = df[i].mean()\n",
    "            df[i] = df[i].fillna(col_avg)\n",
    "    return df \n",
    "\n",
    "def correlation_heatmap(df):\n",
    "    correlations = df.corr()\n",
    "\n",
    "    fig, ax = plt.subplots(figsize=(10,10))\n",
    "    sns.heatmap(correlations, vmax=1.0, center=0, fmt='.2f',\n",
    "                square=True, linewidths=.5, annot=True, cbar_kws={\"shrink\": .70})\n",
    "    plt.show()\n",
    "    \n",
    "#correlation_heatmap(df)"
   ]
  },
  {
   "cell_type": "code",
   "execution_count": null,
   "id": "75fbcd20",
   "metadata": {},
   "outputs": [],
   "source": []
  }
 ],
 "metadata": {
  "kernelspec": {
   "display_name": "Python 3 (ipykernel)",
   "language": "python",
   "name": "python3"
  },
  "language_info": {
   "codemirror_mode": {
    "name": "ipython",
    "version": 3
   },
   "file_extension": ".py",
   "mimetype": "text/x-python",
   "name": "python",
   "nbconvert_exporter": "python",
   "pygments_lexer": "ipython3",
   "version": "3.8.10"
  }
 },
 "nbformat": 4,
 "nbformat_minor": 5
}
