{
 "cells": [
  {
   "cell_type": "code",
   "execution_count": 1,
   "id": "4f9c8b40",
   "metadata": {},
   "outputs": [],
   "source": [
    "# import libraries  \n",
    "import numpy as np \n",
    "import pandas as pd\n",
    "import matplotlib.pyplot as plt\n",
    "import os \n",
    "import sys\n",
    "import seaborn as sns\n",
    "import scipy as sp\n",
    "%matplotlib inline\n",
    "\n",
    "# import pre-processing modules \n",
    "from scipy import stats\n",
    "from sklearn.model_selection import train_test_split\n",
    "from sklearn.preprocessing import StandardScaler\n",
    "from sklearn.feature_selection import SelectFromModel \n",
    "\n",
    "# import classifiers\n",
    "from sklearn.ensemble import RandomForestClassifier\n",
    "from sklearn.linear_model import LogisticRegression\n",
    "from sklearn.linear_model import SGDClassifier\n",
    "from sklearn.svm import SVC\n",
    "\n",
    "# import evaluation modules\n",
    "from sklearn.model_selection import GridSearchCV\n",
    "from sklearn.model_selection import cross_val_score\n",
    "from sklearn.metrics import accuracy_score\n",
    "from sklearn.metrics import precision_recall_fscore_support\n",
    "from sklearn.metrics import classification_report"
   ]
  },
  {
   "cell_type": "code",
   "execution_count": 3,
   "id": "1939e479",
   "metadata": {
    "scrolled": true
   },
   "outputs": [],
   "source": [
    "df_original = pd.read_csv(r\"C:/Users/Yehonatan/PycharmProject/DS/projects/la_liga_project/to ignore/la_liga_data.csv\")\n",
    "#df_original.info()"
   ]
  },
  {
   "cell_type": "code",
   "execution_count": 4,
   "id": "1b31f6b4",
   "metadata": {},
   "outputs": [],
   "source": [
    "# define the custom functions that will be used on the project  \n",
    "\n",
    "def deal_nans(df, percantage_nan):\n",
    "    nans = df[df.columns[df.isnull().any()]]\n",
    "    nan_col_names = list(nans)\n",
    "    for i in nan_col_names:\n",
    "        count_nan = df[i].isnull().sum()\n",
    "        if count_nan/len(df[i]) >= 0.1:       # if nans are more than 10% delete the column \n",
    "            df = df.drop(columns=[i])\n",
    "        else:\n",
    "            col_avg = df[i].mean()\n",
    "            df[i] = df[i].fillna(col_avg)\n",
    "    return df \n",
    "\n",
    "\n",
    "# this function calcs the p-values and determines wether H_0 null hypothesis is rejected or accepted\n",
    "\n",
    "def pvalue_filter(target, features, alpha): # returns a list of columns that are possible drop, p_val > alpha, corr, pval\n",
    "    features_columns_names = list(features)\n",
    "    target_column_name = list(target)\n",
    "    features_np = features.to_numpy()\n",
    "    target_np = target.to_numpy()\n",
    "    drop_index = []\n",
    "    p_val_list =[]\n",
    "    corr_list = []\n",
    "    \n",
    "    for i in range(len(features_columns_names)):\n",
    "        corr, p_val = sp.stats.pearsonr(features_np[:,i], target_np)\n",
    "        corr_list.append(round(corr,3))\n",
    "        if p_val > alpha:           # accept the null hypothesis, no statisitcal significance  \n",
    "            drop_index.append(i)\n",
    "            p_val_list.append(p_val)\n",
    "            \n",
    "    drop_col = [features_columns_names[i] for i in drop_index]\n",
    "    return drop_col, corr_list, p_val_list\n",
    "\n",
    "# cthis function returns the selected and rejected columns (features) after correlation check between the features \n",
    "def features_corr_filter(features, corr_cutoff): \n",
    "    corr = features.corr()\n",
    "    columns = np.full((corr.shape[0],), True, dtype=bool) # create boolean filter \n",
    "\n",
    "    for i in range(corr.shape[0]):\n",
    "        for j in range(i+1, corr.shape[0]):\n",
    "            if corr.iloc[i,j] >= corr_cutoff:\n",
    "                columns[j] = False\n",
    "\n",
    "    rejected_columns = x_train.columns[np.invert(columns)]\n",
    "    #print('reject',rejected_columns)\n",
    "    selected_columns = x_train.columns[columns]\n",
    "    #print('selected',selected_columns)\n",
    "    return selected_columns, rejected_columns\n"
   ]
  },
  {
   "cell_type": "code",
   "execution_count": 5,
   "id": "e80f7d09",
   "metadata": {
    "scrolled": true
   },
   "outputs": [],
   "source": [
    "###### EDA and data processing ############### \n",
    "\n",
    "df = df_original.copy()\n",
    "# deal with object type attributes \n",
    "col_list = df.select_dtypes(include=['object']).columns.to_list()\n",
    "df = df.drop(columns = ['start_time', 'round', 'dayofweek', 'opponent']) #drop categorical columns that in my perspective dont contribute \n",
    "df['venue'] = df['venue'].apply(lambda x : 1 if x == 'Home' else 0) \n",
    "\n",
    "# for now I turn this classifier to be a WIN classifier \n",
    "df['result'] = df['result'].apply(lambda x : 1 if x == 'W' else 0) \n",
    "\n",
    "#turn df into float 64 \n",
    "df=df.astype('float64')\n",
    "\n",
    "# deal with NAN values \n",
    "# specific columns to deal with\n",
    "df['gk_save_pct'] = df['gk_save_pct'].fillna(100) # no shots on target means no saves in a way same effect as 100% saves\n",
    "df['own_goals'] = df['own_goals'].fillna(0) # safe to assume that if there is a NAN there were no owngoals as it is a rare occasion \n",
    "df = df.drop(columns=['tackles_interceptions', 'Unnamed: 0']) # all Nan_s in this column\n",
    "\n",
    "deal_nans(df, 0.1) # fill columns with more then 10% nans with the column's mean value \n",
    "\n",
    "\n",
    "#count_nan = df['tackles_interceptions'].isnull().sum()\n",
    "#print('Number of NaN values present: ' + str(count_nan))\n",
    "\n",
    "# divide to x,y sets \n",
    "y = df['result']\n",
    "x = df.drop(['result'], axis=1)\n",
    "\n",
    "# divide into test set and train set   \n",
    "x_train, x_test, y_train, y_test = train_test_split(x, y, test_size=0.2, random_state=9)\n",
    "\n",
    "train_set = pd.concat([x_train,y_train],axis=1)\n",
    "\n",
    "\n",
    "\n"
   ]
  },
  {
   "cell_type": "code",
   "execution_count": 6,
   "id": "229627c7",
   "metadata": {},
   "outputs": [],
   "source": [
    "######### APPLY FEATURE SELECTION ##########\n",
    "\n",
    "### STEP 1 ###\n",
    "# drop the statisticly insignificant features \n",
    "\n",
    "drop_col, corr_list, p_val_list = pvalue_filter(y_train, x_train, 0.05)\n",
    "#print(drop_col)\n",
    "x_train = x_train.drop(drop_col, axis=1)\n",
    "x_train.rename(columns = {'passes.1':'attempted_passes'}, inplace=True)\n",
    "\n",
    "\n"
   ]
  },
  {
   "cell_type": "code",
   "execution_count": 7,
   "id": "abb8a877",
   "metadata": {},
   "outputs": [],
   "source": [
    "### STEP 2 ###\n",
    "# drop features that might indicate on loss or win . for instance assists = goals and it is quite obvious that many assists \n",
    "# will most likely lead to win. I left features that on a first glance might not indicate a win\n",
    "# drop features that are by product of different circumstances like xg related features\n",
    "# leave features that are controllable - meaning can be worked and controlled by the team \n",
    "\n",
    "hand_pick_drop = ['gk_goals_against', 'goals_for','goals_against','gk_psxg_net', 'dribbles_vs','dribbles_completed',\n",
    "                  'passes_received_pct', 'assists', 'throw_ins','passes_left_foot', 'passes_right_foot',\n",
    "                  'sca_shots','passes_head','gca', 'gca_passes_dead', 'gca_dribbles','gca_shots', 'gca_fouled', \n",
    "                  'gca_defense','goals','goals_per_shot', 'goals_per_shot_on_target','xg', 'npxg', 'npxg_per_shot', \n",
    "                  'pens_made', 'pens_att','xg_net', 'npxg_net','own_goals']\n",
    "\n",
    "x_train = x_train.drop(hand_pick_drop, axis=1)"
   ]
  },
  {
   "cell_type": "code",
   "execution_count": 8,
   "id": "21980066",
   "metadata": {},
   "outputs": [],
   "source": [
    "### STEP 3 ###\n",
    "### apply corr filter on x_train #### \n",
    "\n",
    "selected_columns, rejected_columns = features_corr_filter(x_train, 0.9)\n",
    "x_train = x_train[selected_columns]\n",
    "x_test = x_test[selected_columns]\n",
    "#x_train.info()"
   ]
  },
  {
   "cell_type": "code",
   "execution_count": 9,
   "id": "58c99325",
   "metadata": {},
   "outputs": [],
   "source": [
    "#### after all feature selection filtering\n",
    "### now x_train has 84 features (half compared to the beginning) #### pvalue drop has been made and high corr between features "
   ]
  },
  {
   "cell_type": "code",
   "execution_count": 10,
   "id": "ae7e8440",
   "metadata": {},
   "outputs": [],
   "source": [
    "##### now we scale the data with standardscaler ##### prepre it for learning, convert to np array\n",
    "\n",
    "scaler = StandardScaler()\n",
    "x_train_np = x_train.to_numpy()   \n",
    "x_train_np = scaler.fit_transform(x_train_np)\n",
    "\n",
    "x_train_df = pd.DataFrame(x_train_np, columns= list(selected_columns)) # df after scaling\n",
    "y_train_np = y_train.to_numpy()\n",
    "\n",
    "x_test_np = x_test.to_numpy()\n",
    "x_test_np = scaler.transform(x_test_np)\n",
    "\n",
    "y_test_np =  y_test.to_numpy()"
   ]
  },
  {
   "cell_type": "code",
   "execution_count": 11,
   "id": "9cf54760",
   "metadata": {},
   "outputs": [],
   "source": [
    "#### apply classifiers ####\n",
    "\n",
    "# tried three classifiers - ligostic reg gave slightly better rsults . yet it seems to not overfit as the others \n",
    "#and when I chose newton method the results were great\n"
   ]
  },
  {
   "cell_type": "code",
   "execution_count": 35,
   "id": "e704497e",
   "metadata": {},
   "outputs": [],
   "source": [
    "clf = RandomForestClassifier(n_estimators= 100, max_depth=2, random_state=9)\n",
    "clf.fit(x_train_np, y_train_np)\n",
    "y_train_pred = clf.predict(x_train_np)"
   ]
  },
  {
   "cell_type": "code",
   "execution_count": 493,
   "id": "fc9f3092",
   "metadata": {},
   "outputs": [],
   "source": [
    "clf = SGDClassifier(max_iter=1000, tol=1e-3)\n",
    "clf.fit(x_train_np, y_train_np)\n",
    "y_train_pred = clf.predict(x_train_np)"
   ]
  },
  {
   "cell_type": "code",
   "execution_count": 12,
   "id": "2df69736",
   "metadata": {},
   "outputs": [],
   "source": [
    "# newton method as lbfgs didnt converge and it gave the best outcome . could check other algos \n",
    "clf = LogisticRegression(random_state=9, max_iter=500, solver = 'newton-cg') \n",
    "clf.fit(x_train_np, y_train_np)\n",
    "y_train_pred = clf.predict(x_train_np)"
   ]
  },
  {
   "cell_type": "code",
   "execution_count": null,
   "id": "40a1372b",
   "metadata": {},
   "outputs": [],
   "source": []
  },
  {
   "cell_type": "code",
   "execution_count": 13,
   "id": "cc3ab57c",
   "metadata": {},
   "outputs": [
    {
     "name": "stdout",
     "output_type": "stream",
     "text": [
      "accuracy : 0.886\n",
      "precision : 0.871\n",
      "recall : 0.854\n",
      "f_score : 0.862\n"
     ]
    }
   ],
   "source": [
    "#### check the accuracy, precision and recall ###### all feature slection steps were applied\n",
    "\n",
    "precision, recall, f_1, support = precision_recall_fscore_support(y_train_np, y_train_pred, average='binary')\n",
    "accuracy = accuracy_score(y_train_np, y_train_pred)\n",
    "print('accuracy :', np.round(accuracy,3))\n",
    "print('precision :', np.round(precision,3))\n",
    "print('recall :', np.round(recall,3))\n",
    "print('f_score :', np.round(f_1,3))\n"
   ]
  },
  {
   "cell_type": "code",
   "execution_count": 25,
   "id": "7e3f73b1",
   "metadata": {},
   "outputs": [
    {
     "name": "stdout",
     "output_type": "stream",
     "text": [
      "cv_avg_accuracy : 0.863\n"
     ]
    }
   ],
   "source": [
    "cv_3_accuracy = cross_val_score(clf, x_train , y_train, cv=3, scoring='accuracy')\n",
    "#cv_3_precision = cross_val_score(clf, x_train , y_train, cv=3, scoring='precision')\n",
    "#cv_3_recall = cross_val_score(clf, x_train , y_train, cv=3, scoring='recall')\n",
    "\n",
    "print('cv_avg_accuracy :', np.round(cv_3_accuracy.mean(),3))\n",
    "#print('cv_avg_precision', cv_3_precision.mean())\n",
    "#print('cv_avg_recall', cv_3_recall.mean())"
   ]
  },
  {
   "cell_type": "code",
   "execution_count": 15,
   "id": "e6ae83e7",
   "metadata": {},
   "outputs": [],
   "source": [
    "### Grid Search logistic reg ### \n",
    "\n",
    "params_l1 = {\n",
    "    'penalty' : ['l1'],\n",
    "    'solver' : ['liblinear', 'saga'],\n",
    "    'max_iter' : [200,500,750,1000]\n",
    "}\n",
    "\n",
    "params_l2 = {\n",
    "    'penalty' : ['l2'],\n",
    "    'solver' : ['newton-cg', 'saga', 'sag' ],\n",
    "    'max_iter' : [200,500,750,1000]\n",
    "}\n",
    "\n",
    "grid_search_l1 = GridSearchCV(estimator = clf, param_grid = params_l1, scoring = 'f1', cv = 3, verbose = 0)\n",
    "grid_search_l2 = GridSearchCV(estimator = clf, param_grid = params_l2, scoring = 'f1', cv = 3, verbose = 0)"
   ]
  },
  {
   "cell_type": "code",
   "execution_count": 16,
   "id": "4436678d",
   "metadata": {},
   "outputs": [
    {
     "data": {
      "text/html": [
       "<style>#sk-container-id-1 {color: black;background-color: white;}#sk-container-id-1 pre{padding: 0;}#sk-container-id-1 div.sk-toggleable {background-color: white;}#sk-container-id-1 label.sk-toggleable__label {cursor: pointer;display: block;width: 100%;margin-bottom: 0;padding: 0.3em;box-sizing: border-box;text-align: center;}#sk-container-id-1 label.sk-toggleable__label-arrow:before {content: \"▸\";float: left;margin-right: 0.25em;color: #696969;}#sk-container-id-1 label.sk-toggleable__label-arrow:hover:before {color: black;}#sk-container-id-1 div.sk-estimator:hover label.sk-toggleable__label-arrow:before {color: black;}#sk-container-id-1 div.sk-toggleable__content {max-height: 0;max-width: 0;overflow: hidden;text-align: left;background-color: #f0f8ff;}#sk-container-id-1 div.sk-toggleable__content pre {margin: 0.2em;color: black;border-radius: 0.25em;background-color: #f0f8ff;}#sk-container-id-1 input.sk-toggleable__control:checked~div.sk-toggleable__content {max-height: 200px;max-width: 100%;overflow: auto;}#sk-container-id-1 input.sk-toggleable__control:checked~label.sk-toggleable__label-arrow:before {content: \"▾\";}#sk-container-id-1 div.sk-estimator input.sk-toggleable__control:checked~label.sk-toggleable__label {background-color: #d4ebff;}#sk-container-id-1 div.sk-label input.sk-toggleable__control:checked~label.sk-toggleable__label {background-color: #d4ebff;}#sk-container-id-1 input.sk-hidden--visually {border: 0;clip: rect(1px 1px 1px 1px);clip: rect(1px, 1px, 1px, 1px);height: 1px;margin: -1px;overflow: hidden;padding: 0;position: absolute;width: 1px;}#sk-container-id-1 div.sk-estimator {font-family: monospace;background-color: #f0f8ff;border: 1px dotted black;border-radius: 0.25em;box-sizing: border-box;margin-bottom: 0.5em;}#sk-container-id-1 div.sk-estimator:hover {background-color: #d4ebff;}#sk-container-id-1 div.sk-parallel-item::after {content: \"\";width: 100%;border-bottom: 1px solid gray;flex-grow: 1;}#sk-container-id-1 div.sk-label:hover label.sk-toggleable__label {background-color: #d4ebff;}#sk-container-id-1 div.sk-serial::before {content: \"\";position: absolute;border-left: 1px solid gray;box-sizing: border-box;top: 0;bottom: 0;left: 50%;z-index: 0;}#sk-container-id-1 div.sk-serial {display: flex;flex-direction: column;align-items: center;background-color: white;padding-right: 0.2em;padding-left: 0.2em;position: relative;}#sk-container-id-1 div.sk-item {position: relative;z-index: 1;}#sk-container-id-1 div.sk-parallel {display: flex;align-items: stretch;justify-content: center;background-color: white;position: relative;}#sk-container-id-1 div.sk-item::before, #sk-container-id-1 div.sk-parallel-item::before {content: \"\";position: absolute;border-left: 1px solid gray;box-sizing: border-box;top: 0;bottom: 0;left: 50%;z-index: -1;}#sk-container-id-1 div.sk-parallel-item {display: flex;flex-direction: column;z-index: 1;position: relative;background-color: white;}#sk-container-id-1 div.sk-parallel-item:first-child::after {align-self: flex-end;width: 50%;}#sk-container-id-1 div.sk-parallel-item:last-child::after {align-self: flex-start;width: 50%;}#sk-container-id-1 div.sk-parallel-item:only-child::after {width: 0;}#sk-container-id-1 div.sk-dashed-wrapped {border: 1px dashed gray;margin: 0 0.4em 0.5em 0.4em;box-sizing: border-box;padding-bottom: 0.4em;background-color: white;}#sk-container-id-1 div.sk-label label {font-family: monospace;font-weight: bold;display: inline-block;line-height: 1.2em;}#sk-container-id-1 div.sk-label-container {text-align: center;}#sk-container-id-1 div.sk-container {/* jupyter's `normalize.less` sets `[hidden] { display: none; }` but bootstrap.min.css set `[hidden] { display: none !important; }` so we also need the `!important` here to be able to override the default hidden behavior on the sphinx rendered scikit-learn.org. See: https://github.com/scikit-learn/scikit-learn/issues/21755 */display: inline-block !important;position: relative;}#sk-container-id-1 div.sk-text-repr-fallback {display: none;}</style><div id=\"sk-container-id-1\" class=\"sk-top-container\"><div class=\"sk-text-repr-fallback\"><pre>GridSearchCV(cv=3,\n",
       "             estimator=LogisticRegression(max_iter=500, random_state=9,\n",
       "                                          solver=&#x27;newton-cg&#x27;),\n",
       "             param_grid={&#x27;max_iter&#x27;: [200, 500, 750, 1000], &#x27;penalty&#x27;: [&#x27;l1&#x27;],\n",
       "                         &#x27;solver&#x27;: [&#x27;liblinear&#x27;, &#x27;saga&#x27;]},\n",
       "             scoring=&#x27;f1&#x27;)</pre><b>In a Jupyter environment, please rerun this cell to show the HTML representation or trust the notebook. <br />On GitHub, the HTML representation is unable to render, please try loading this page with nbviewer.org.</b></div><div class=\"sk-container\" hidden><div class=\"sk-item sk-dashed-wrapped\"><div class=\"sk-label-container\"><div class=\"sk-label sk-toggleable\"><input class=\"sk-toggleable__control sk-hidden--visually\" id=\"sk-estimator-id-1\" type=\"checkbox\" ><label for=\"sk-estimator-id-1\" class=\"sk-toggleable__label sk-toggleable__label-arrow\">GridSearchCV</label><div class=\"sk-toggleable__content\"><pre>GridSearchCV(cv=3,\n",
       "             estimator=LogisticRegression(max_iter=500, random_state=9,\n",
       "                                          solver=&#x27;newton-cg&#x27;),\n",
       "             param_grid={&#x27;max_iter&#x27;: [200, 500, 750, 1000], &#x27;penalty&#x27;: [&#x27;l1&#x27;],\n",
       "                         &#x27;solver&#x27;: [&#x27;liblinear&#x27;, &#x27;saga&#x27;]},\n",
       "             scoring=&#x27;f1&#x27;)</pre></div></div></div><div class=\"sk-parallel\"><div class=\"sk-parallel-item\"><div class=\"sk-item\"><div class=\"sk-label-container\"><div class=\"sk-label sk-toggleable\"><input class=\"sk-toggleable__control sk-hidden--visually\" id=\"sk-estimator-id-2\" type=\"checkbox\" ><label for=\"sk-estimator-id-2\" class=\"sk-toggleable__label sk-toggleable__label-arrow\">estimator: LogisticRegression</label><div class=\"sk-toggleable__content\"><pre>LogisticRegression(max_iter=500, random_state=9, solver=&#x27;newton-cg&#x27;)</pre></div></div></div><div class=\"sk-serial\"><div class=\"sk-item\"><div class=\"sk-estimator sk-toggleable\"><input class=\"sk-toggleable__control sk-hidden--visually\" id=\"sk-estimator-id-3\" type=\"checkbox\" ><label for=\"sk-estimator-id-3\" class=\"sk-toggleable__label sk-toggleable__label-arrow\">LogisticRegression</label><div class=\"sk-toggleable__content\"><pre>LogisticRegression(max_iter=500, random_state=9, solver=&#x27;newton-cg&#x27;)</pre></div></div></div></div></div></div></div></div></div></div>"
      ],
      "text/plain": [
       "GridSearchCV(cv=3,\n",
       "             estimator=LogisticRegression(max_iter=500, random_state=9,\n",
       "                                          solver='newton-cg'),\n",
       "             param_grid={'max_iter': [200, 500, 750, 1000], 'penalty': ['l1'],\n",
       "                         'solver': ['liblinear', 'saga']},\n",
       "             scoring='f1')"
      ]
     },
     "execution_count": 16,
     "metadata": {},
     "output_type": "execute_result"
    }
   ],
   "source": [
    "grid_search_l1.fit(x_train_np, y_train_np)"
   ]
  },
  {
   "cell_type": "code",
   "execution_count": 17,
   "id": "88896385",
   "metadata": {},
   "outputs": [
    {
     "name": "stdout",
     "output_type": "stream",
     "text": [
      "best parameters :  {'max_iter': 200, 'penalty': 'l1', 'solver': 'saga'}\n",
      "best score for the parameters : 0.842\n"
     ]
    }
   ],
   "source": [
    "print('best parameters : ', grid_search_l1.best_params_)\n",
    "print('best score for the parameters :', np.round(grid_search_l1.best_score_,3))"
   ]
  },
  {
   "cell_type": "code",
   "execution_count": 18,
   "id": "81debfd5",
   "metadata": {},
   "outputs": [
    {
     "data": {
      "text/html": [
       "<style>#sk-container-id-2 {color: black;background-color: white;}#sk-container-id-2 pre{padding: 0;}#sk-container-id-2 div.sk-toggleable {background-color: white;}#sk-container-id-2 label.sk-toggleable__label {cursor: pointer;display: block;width: 100%;margin-bottom: 0;padding: 0.3em;box-sizing: border-box;text-align: center;}#sk-container-id-2 label.sk-toggleable__label-arrow:before {content: \"▸\";float: left;margin-right: 0.25em;color: #696969;}#sk-container-id-2 label.sk-toggleable__label-arrow:hover:before {color: black;}#sk-container-id-2 div.sk-estimator:hover label.sk-toggleable__label-arrow:before {color: black;}#sk-container-id-2 div.sk-toggleable__content {max-height: 0;max-width: 0;overflow: hidden;text-align: left;background-color: #f0f8ff;}#sk-container-id-2 div.sk-toggleable__content pre {margin: 0.2em;color: black;border-radius: 0.25em;background-color: #f0f8ff;}#sk-container-id-2 input.sk-toggleable__control:checked~div.sk-toggleable__content {max-height: 200px;max-width: 100%;overflow: auto;}#sk-container-id-2 input.sk-toggleable__control:checked~label.sk-toggleable__label-arrow:before {content: \"▾\";}#sk-container-id-2 div.sk-estimator input.sk-toggleable__control:checked~label.sk-toggleable__label {background-color: #d4ebff;}#sk-container-id-2 div.sk-label input.sk-toggleable__control:checked~label.sk-toggleable__label {background-color: #d4ebff;}#sk-container-id-2 input.sk-hidden--visually {border: 0;clip: rect(1px 1px 1px 1px);clip: rect(1px, 1px, 1px, 1px);height: 1px;margin: -1px;overflow: hidden;padding: 0;position: absolute;width: 1px;}#sk-container-id-2 div.sk-estimator {font-family: monospace;background-color: #f0f8ff;border: 1px dotted black;border-radius: 0.25em;box-sizing: border-box;margin-bottom: 0.5em;}#sk-container-id-2 div.sk-estimator:hover {background-color: #d4ebff;}#sk-container-id-2 div.sk-parallel-item::after {content: \"\";width: 100%;border-bottom: 1px solid gray;flex-grow: 1;}#sk-container-id-2 div.sk-label:hover label.sk-toggleable__label {background-color: #d4ebff;}#sk-container-id-2 div.sk-serial::before {content: \"\";position: absolute;border-left: 1px solid gray;box-sizing: border-box;top: 0;bottom: 0;left: 50%;z-index: 0;}#sk-container-id-2 div.sk-serial {display: flex;flex-direction: column;align-items: center;background-color: white;padding-right: 0.2em;padding-left: 0.2em;position: relative;}#sk-container-id-2 div.sk-item {position: relative;z-index: 1;}#sk-container-id-2 div.sk-parallel {display: flex;align-items: stretch;justify-content: center;background-color: white;position: relative;}#sk-container-id-2 div.sk-item::before, #sk-container-id-2 div.sk-parallel-item::before {content: \"\";position: absolute;border-left: 1px solid gray;box-sizing: border-box;top: 0;bottom: 0;left: 50%;z-index: -1;}#sk-container-id-2 div.sk-parallel-item {display: flex;flex-direction: column;z-index: 1;position: relative;background-color: white;}#sk-container-id-2 div.sk-parallel-item:first-child::after {align-self: flex-end;width: 50%;}#sk-container-id-2 div.sk-parallel-item:last-child::after {align-self: flex-start;width: 50%;}#sk-container-id-2 div.sk-parallel-item:only-child::after {width: 0;}#sk-container-id-2 div.sk-dashed-wrapped {border: 1px dashed gray;margin: 0 0.4em 0.5em 0.4em;box-sizing: border-box;padding-bottom: 0.4em;background-color: white;}#sk-container-id-2 div.sk-label label {font-family: monospace;font-weight: bold;display: inline-block;line-height: 1.2em;}#sk-container-id-2 div.sk-label-container {text-align: center;}#sk-container-id-2 div.sk-container {/* jupyter's `normalize.less` sets `[hidden] { display: none; }` but bootstrap.min.css set `[hidden] { display: none !important; }` so we also need the `!important` here to be able to override the default hidden behavior on the sphinx rendered scikit-learn.org. See: https://github.com/scikit-learn/scikit-learn/issues/21755 */display: inline-block !important;position: relative;}#sk-container-id-2 div.sk-text-repr-fallback {display: none;}</style><div id=\"sk-container-id-2\" class=\"sk-top-container\"><div class=\"sk-text-repr-fallback\"><pre>GridSearchCV(cv=3,\n",
       "             estimator=LogisticRegression(max_iter=500, random_state=9,\n",
       "                                          solver=&#x27;newton-cg&#x27;),\n",
       "             param_grid={&#x27;max_iter&#x27;: [200, 500, 750, 1000], &#x27;penalty&#x27;: [&#x27;l2&#x27;],\n",
       "                         &#x27;solver&#x27;: [&#x27;newton-cg&#x27;, &#x27;saga&#x27;, &#x27;sag&#x27;]},\n",
       "             scoring=&#x27;f1&#x27;)</pre><b>In a Jupyter environment, please rerun this cell to show the HTML representation or trust the notebook. <br />On GitHub, the HTML representation is unable to render, please try loading this page with nbviewer.org.</b></div><div class=\"sk-container\" hidden><div class=\"sk-item sk-dashed-wrapped\"><div class=\"sk-label-container\"><div class=\"sk-label sk-toggleable\"><input class=\"sk-toggleable__control sk-hidden--visually\" id=\"sk-estimator-id-4\" type=\"checkbox\" ><label for=\"sk-estimator-id-4\" class=\"sk-toggleable__label sk-toggleable__label-arrow\">GridSearchCV</label><div class=\"sk-toggleable__content\"><pre>GridSearchCV(cv=3,\n",
       "             estimator=LogisticRegression(max_iter=500, random_state=9,\n",
       "                                          solver=&#x27;newton-cg&#x27;),\n",
       "             param_grid={&#x27;max_iter&#x27;: [200, 500, 750, 1000], &#x27;penalty&#x27;: [&#x27;l2&#x27;],\n",
       "                         &#x27;solver&#x27;: [&#x27;newton-cg&#x27;, &#x27;saga&#x27;, &#x27;sag&#x27;]},\n",
       "             scoring=&#x27;f1&#x27;)</pre></div></div></div><div class=\"sk-parallel\"><div class=\"sk-parallel-item\"><div class=\"sk-item\"><div class=\"sk-label-container\"><div class=\"sk-label sk-toggleable\"><input class=\"sk-toggleable__control sk-hidden--visually\" id=\"sk-estimator-id-5\" type=\"checkbox\" ><label for=\"sk-estimator-id-5\" class=\"sk-toggleable__label sk-toggleable__label-arrow\">estimator: LogisticRegression</label><div class=\"sk-toggleable__content\"><pre>LogisticRegression(max_iter=500, random_state=9, solver=&#x27;newton-cg&#x27;)</pre></div></div></div><div class=\"sk-serial\"><div class=\"sk-item\"><div class=\"sk-estimator sk-toggleable\"><input class=\"sk-toggleable__control sk-hidden--visually\" id=\"sk-estimator-id-6\" type=\"checkbox\" ><label for=\"sk-estimator-id-6\" class=\"sk-toggleable__label sk-toggleable__label-arrow\">LogisticRegression</label><div class=\"sk-toggleable__content\"><pre>LogisticRegression(max_iter=500, random_state=9, solver=&#x27;newton-cg&#x27;)</pre></div></div></div></div></div></div></div></div></div></div>"
      ],
      "text/plain": [
       "GridSearchCV(cv=3,\n",
       "             estimator=LogisticRegression(max_iter=500, random_state=9,\n",
       "                                          solver='newton-cg'),\n",
       "             param_grid={'max_iter': [200, 500, 750, 1000], 'penalty': ['l2'],\n",
       "                         'solver': ['newton-cg', 'saga', 'sag']},\n",
       "             scoring='f1')"
      ]
     },
     "execution_count": 18,
     "metadata": {},
     "output_type": "execute_result"
    }
   ],
   "source": [
    "grid_search_l2.fit(x_train_np, y_train_np)"
   ]
  },
  {
   "cell_type": "code",
   "execution_count": 19,
   "id": "fdd0f47d",
   "metadata": {},
   "outputs": [
    {
     "name": "stdout",
     "output_type": "stream",
     "text": [
      "best parameters :  {'max_iter': 200, 'penalty': 'l2', 'solver': 'newton-cg'}\n",
      "best score for the parameters : 0.837\n"
     ]
    }
   ],
   "source": [
    "print('best parameters : ', grid_search_l2.best_params_)\n",
    "print('best score for the parameters :', np.round(grid_search_l2.best_score_,3))"
   ]
  },
  {
   "cell_type": "code",
   "execution_count": 26,
   "id": "c07b42ab",
   "metadata": {},
   "outputs": [],
   "source": [
    "#clf.get_params()"
   ]
  },
  {
   "cell_type": "code",
   "execution_count": 27,
   "id": "eb103852",
   "metadata": {},
   "outputs": [],
   "source": [
    "#print(classification_report(y_train_np, y_train_pred))  "
   ]
  },
  {
   "cell_type": "code",
   "execution_count": null,
   "id": "d40301c8",
   "metadata": {},
   "outputs": [],
   "source": []
  },
  {
   "cell_type": "code",
   "execution_count": null,
   "id": "43620f0e",
   "metadata": {},
   "outputs": [],
   "source": []
  },
  {
   "cell_type": "code",
   "execution_count": 22,
   "id": "61e57eaa",
   "metadata": {},
   "outputs": [],
   "source": [
    "### predict on TEST SET #####\n",
    "y_test_pred = clf.predict(x_test_np)"
   ]
  },
  {
   "cell_type": "code",
   "execution_count": 23,
   "id": "0856e07c",
   "metadata": {},
   "outputs": [
    {
     "name": "stdout",
     "output_type": "stream",
     "text": [
      "accuracy : 0.872\n",
      "precision : 0.862\n",
      "recall : 0.833\n",
      "f_score : 0.847\n"
     ]
    }
   ],
   "source": [
    "### PREDICTION ASSESMENT ###\n",
    "precision, recall, f_1, support = precision_recall_fscore_support(y_test_np, y_test_pred, average='binary')\n",
    "accuracy = accuracy_score(y_test_np, y_test_pred)\n",
    "print('accuracy :', np.round(accuracy,3))\n",
    "print('precision :', np.round(precision,3))\n",
    "print('recall :', np.round(recall,3))\n",
    "print('f_score :', np.round(f_1,3))"
   ]
  },
  {
   "cell_type": "code",
   "execution_count": 24,
   "id": "d8b01372",
   "metadata": {},
   "outputs": [
    {
     "name": "stdout",
     "output_type": "stream",
     "text": [
      "              precision    recall  f1-score   support\n",
      "\n",
      "         0.0       0.88      0.90      0.89       284\n",
      "         1.0       0.86      0.83      0.85       210\n",
      "\n",
      "    accuracy                           0.87       494\n",
      "   macro avg       0.87      0.87      0.87       494\n",
      "weighted avg       0.87      0.87      0.87       494\n",
      "\n"
     ]
    }
   ],
   "source": [
    "print(classification_report(y_test_np, y_test_pred))  "
   ]
  },
  {
   "cell_type": "code",
   "execution_count": 24,
   "id": "4af38e9b",
   "metadata": {},
   "outputs": [],
   "source": [
    "#x_train_df_scale.hist(bins=50, figsize=(20,15))\n",
    "#plt.show()"
   ]
  },
  {
   "cell_type": "code",
   "execution_count": 149,
   "id": "8bed9eec",
   "metadata": {},
   "outputs": [],
   "source": [
    "#x_train['passes_switches'].hist(bins=50, figsize=(20,15))\n",
    "#plt.show()"
   ]
  },
  {
   "cell_type": "code",
   "execution_count": 157,
   "id": "851acac7",
   "metadata": {},
   "outputs": [],
   "source": [
    "#x_train.nutmegs.value_counts() \n",
    "#x_train['gk_clean_sheets']"
   ]
  },
  {
   "cell_type": "code",
   "execution_count": null,
   "id": "8afb52d4",
   "metadata": {},
   "outputs": [],
   "source": []
  },
  {
   "cell_type": "code",
   "execution_count": null,
   "id": "c07c45cf",
   "metadata": {},
   "outputs": [],
   "source": [
    "#### general NOTES ###\n",
    "# few attributes were removed at fbref so they exist in my data but I dont have the exact definition of them "
   ]
  },
  {
   "cell_type": "code",
   "execution_count": null,
   "id": "963f950d",
   "metadata": {},
   "outputs": [],
   "source": []
  },
  {
   "cell_type": "code",
   "execution_count": null,
   "id": "983df892",
   "metadata": {},
   "outputs": [],
   "source": []
  },
  {
   "cell_type": "code",
   "execution_count": null,
   "id": "a6f9e18b",
   "metadata": {},
   "outputs": [],
   "source": []
  },
  {
   "cell_type": "code",
   "execution_count": null,
   "id": "22f32c7c",
   "metadata": {},
   "outputs": [],
   "source": []
  }
 ],
 "metadata": {
  "kernelspec": {
   "display_name": "Python 3 (ipykernel)",
   "language": "python",
   "name": "python3"
  },
  "language_info": {
   "codemirror_mode": {
    "name": "ipython",
    "version": 3
   },
   "file_extension": ".py",
   "mimetype": "text/x-python",
   "name": "python",
   "nbconvert_exporter": "python",
   "pygments_lexer": "ipython3",
   "version": "3.8.10"
  }
 },
 "nbformat": 4,
 "nbformat_minor": 5
}
