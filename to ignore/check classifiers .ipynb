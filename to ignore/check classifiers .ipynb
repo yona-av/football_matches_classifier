{
 "cells": [
  {
   "cell_type": "code",
   "execution_count": 41,
   "id": "4f9c8b40",
   "metadata": {},
   "outputs": [],
   "source": [
    "# import modules \n",
    "import numpy as np \n",
    "import pandas as pd\n",
    "import matplotlib.pyplot as plt\n",
    "import os \n",
    "import sys\n",
    "import seaborn as sns\n",
    "import scipy as sp\n",
    "%matplotlib inline\n",
    "\n",
    "from scipy import stats\n",
    "from sklearn.model_selection import train_test_split\n",
    "from sklearn.preprocessing import StandardScaler\n",
    "\n",
    "from sklearn.ensemble import RandomForestClassifier\n",
    "from sklearn.linear_model import LogisticRegression\n",
    "from sklearn.linear_model import SGDClassifier\n",
    "from sklearn.svm import SVC\n",
    "\n",
    "from sklearn.model_selection import cross_val_score\n",
    "from sklearn.metrics import accuracy_score\n",
    "from sklearn.metrics import precision_recall_fscore_support\n",
    "from sklearn.feature_selection import SelectFromModel \n",
    "from sklearn.metrics import classification_report"
   ]
  },
  {
   "cell_type": "code",
   "execution_count": 42,
   "id": "1939e479",
   "metadata": {
    "scrolled": true
   },
   "outputs": [],
   "source": [
    "df_original = pd.read_csv(r\"C:/Users/Yehonatan/PycharmProject/DS/la_liga_data.csv\")\n",
    "#df_original.info()"
   ]
  },
  {
   "cell_type": "code",
   "execution_count": 43,
   "id": "1b31f6b4",
   "metadata": {},
   "outputs": [],
   "source": [
    "\n",
    "def deal_nans(df, percantage_nan):\n",
    "    nans = df[df.columns[df.isnull().any()]]\n",
    "    nan_col_names = list(nans)\n",
    "    for i in nan_col_names:\n",
    "        count_nan = df[i].isnull().sum()\n",
    "        if count_nan/len(df[i]) >= 0.1:       # if nans are more than 10% delete the column \n",
    "            df = df.drop(columns=[i])\n",
    "        else:\n",
    "            col_avg = df[i].mean()\n",
    "            df[i] = df[i].fillna(col_avg)\n",
    "    return df \n",
    "\n",
    "\n",
    "# create a function that gets the features and target . calcs the p-values and if it rejects or accepts H_0 null hypothesis \n",
    "\n",
    "def pvalue_filter(target, features, alpha): # returns a list of columns that are possible drop, p_val > alpha, corr, pval\n",
    "    features_columns_names = list(features)\n",
    "    target_column_name = list(target)\n",
    "    features_np = features.to_numpy()\n",
    "    target_np = target.to_numpy()\n",
    "    drop_index = []\n",
    "    p_val_list =[]\n",
    "    corr_list = []\n",
    "    \n",
    "    for i in range(len(features_columns_names)):\n",
    "        corr, p_val = sp.stats.pearsonr(features_np[:,i], target_np)\n",
    "        corr_list.append(round(corr,3))\n",
    "        if p_val > alpha:           # accept the null hypothesis, no statisitcal significance  \n",
    "            drop_index.append(i)\n",
    "            p_val_list.append(p_val)\n",
    "            \n",
    "    drop_col = [features_columns_names[i] for i in drop_index]\n",
    "    return drop_col, corr_list, p_val_list\n",
    "\n",
    "# create a function that returns the selected and rejected columns by correlation between features \n",
    "def features_corr_filter(features, corr_cutoff): \n",
    "    corr = features.corr()\n",
    "    columns = np.full((corr.shape[0],), True, dtype=bool) # create boolean filter \n",
    "\n",
    "    for i in range(corr.shape[0]):\n",
    "        for j in range(i+1, corr.shape[0]):\n",
    "            if corr.iloc[i,j] >= corr_cutoff:\n",
    "                columns[j] = False\n",
    "\n",
    "    rejected_columns = x_train.columns[np.invert(columns)]\n",
    "    #print('reject',rejected_columns)\n",
    "    selected_columns = x_train.columns[columns]\n",
    "    #print('selected',selected_columns)\n",
    "    return selected_columns, rejected_columns\n"
   ]
  },
  {
   "cell_type": "code",
   "execution_count": 44,
   "id": "e80f7d09",
   "metadata": {
    "scrolled": true
   },
   "outputs": [],
   "source": [
    "###### EDA and data processing ###############\n",
    "\n",
    "# turn data into numerical float64 \n",
    "#create Feature selectin \n",
    "\n",
    "df = df_original.copy()\n",
    "# deal with object type attributes \n",
    "col_list = df.select_dtypes(include=['object']).columns.to_list()\n",
    "df = df.drop(columns = ['start_time', 'round', 'dayofweek', 'opponent'])\n",
    "df['venue']= df['venue'].apply(lambda x : 1 if x== 'Home' else 0) \n",
    "\n",
    "# for now we turn this classifier to be a WIN classifier so OvA strategy\n",
    "df['result']= df['result'].apply(lambda x : 1 if x== 'W' else 0) \n",
    "\n",
    "#turn df into float 64 \n",
    "df=df.astype('float64')\n",
    "\n",
    "# deal with NAN values \n",
    "# special columns to deal with\n",
    "df['gk_save_pct'] = df['gk_save_pct'].fillna(100) # no shots on target means no saves in a way same effect as 100% saves\n",
    "df['own_goals'] = df['own_goals'].fillna(0) # safe to assume that if there is a NAN there were no owngoals as it is a rare occasion \n",
    "df = df.drop(columns=['tackles_interceptions', 'Unnamed: 0']) # all Nan_s in this column\n",
    "\n",
    "deal_nans(df, 0.1)\n",
    "\n",
    "\n",
    "#count_nan = df['tackles_interceptions'].isnull().sum()\n",
    "#print('Number of NaN values present: ' + str(count_nan))\n",
    "\n",
    "# divide to x,y sets \n",
    "y = df['result']\n",
    "x = df.drop(['result'], axis=1)\n",
    "\n",
    "# divide into test set and train set   \n",
    "x_train, x_test, y_train, y_test = train_test_split(x, y, test_size=0.2, random_state=9)\n",
    "\n",
    "train_set = pd.concat([x_train,y_train],axis=1)\n",
    "\n",
    "\n",
    "\n"
   ]
  },
  {
   "cell_type": "code",
   "execution_count": 45,
   "id": "229627c7",
   "metadata": {},
   "outputs": [
    {
     "name": "stdout",
     "output_type": "stream",
     "text": [
      "['gk_saves', 'gk_pens_saved', 'gk_pens_missed', 'gk_passes_completed_launched', 'gk_passes_launched', 'gk_passes', 'gk_passes_throws', 'gk_pct_passes_launched', 'gk_passes_length_avg', 'gk_goal_kicks', 'gk_crosses_stopped_pct', 'tackles', 'tackles_won', 'tackles_mid_3rd', 'tackles_att_3rd', 'dribble_tackles', 'dribble_tackles_pct', 'dribbled_past', 'pressure_regains', 'pressures_mid_3rd', 'blocked_shots', 'blocked_shots_saves', 'interceptions', 'clearances', 'nutmegs', 'miscontrols', 'dispossessed', 'passes_completed_long', 'passes_into_final_third', 'crosses_into_penalty_area', 'passes_switches', 'corner_kicks', 'corner_kicks_straight', 'passes_low', 'passes_other_body', 'passes_oob', 'passes_intercepted', 'sca_passes_dead', 'sca_fouled', 'shots_free_kicks', 'fouled', 'interceptions.1', 'tackles_won.1']\n"
     ]
    }
   ],
   "source": [
    "######### APPLY FEATURE SELECTION ##########\n",
    "\n",
    "# drop the statisticly insignificant features \n",
    "drop_col, corr_list, p_val_list = pvalue_filter(y_train, x_train, 0.05)\n",
    "print(drop_col)\n",
    "x_train = x_train.drop(drop_col, axis=1)\n",
    "x_train.rename(columns = {'passes.1':'attempted_passes'}, inplace=True)\n",
    "\n",
    "\n"
   ]
  },
  {
   "cell_type": "code",
   "execution_count": 46,
   "id": "abb8a877",
   "metadata": {},
   "outputs": [],
   "source": [
    "# drop features that might indicate on loss or win . for instance assists = goals and it is quite obvious that many assists \n",
    "# will most likely lead to win. I left features that on a first glance might not indicate a win\n",
    "# drop features that are by product of different circumstances like xg related features\n",
    "# leave features that are controllable - meaning can be worked and controlled by the team\n",
    "\n",
    "hand_pick_drop = ['gk_goals_against', 'goals_for','goals_against','gk_psxg_net', 'dribbles_vs','dribbles_completed',\n",
    "                  'passes_received_pct', 'assists', 'throw_ins','passes_left_foot', 'passes_right_foot',\n",
    "                  'sca_shots','passes_head','gca', 'gca_passes_dead', 'gca_dribbles','gca_shots', 'gca_fouled', \n",
    "                  'gca_defense','goals','goals_per_shot', 'goals_per_shot_on_target','xg', 'npxg', 'npxg_per_shot', \n",
    "                  'pens_made', 'pens_att','xg_net', 'npxg_net','own_goals']\n",
    "\n",
    "x_train = x_train.drop(hand_pick_drop, axis=1)"
   ]
  },
  {
   "cell_type": "code",
   "execution_count": 47,
   "id": "21980066",
   "metadata": {},
   "outputs": [
    {
     "name": "stdout",
     "output_type": "stream",
     "text": [
      "Index(['venue', 'gk_shots_on_target_against', 'gk_save_pct', 'gk_clean_sheets',\n",
      "       'gk_psxg', 'gk_pens_att', 'gk_pens_allowed', 'gk_passes_pct_launched',\n",
      "       'gk_pct_goal_kicks_launched', 'gk_crosses', 'gk_crosses_stopped',\n",
      "       'gk_def_actions_outside_pen_area', 'gk_avg_distance_def_actions',\n",
      "       'tackles_def_3rd', 'pressures', 'pressure_regain_pct',\n",
      "       'pressures_def_3rd', 'pressures_att_3rd', 'blocks', 'errors',\n",
      "       'possession', 'touches', 'touches_def_pen_area', 'touches_def_3rd',\n",
      "       'touches_att_3rd', 'touches_att_pen_area', 'dribbles',\n",
      "       'dribbles_completed_pct', 'players_dribbled_past',\n",
      "       'carries_into_final_third', 'carries_into_penalty_area',\n",
      "       'progressive_passes_received', 'passes_pct',\n",
      "       'passes_progressive_distance', 'passes_pct_short', 'passes_long',\n",
      "       'passes_pct_long', 'xa', 'assisted_shots', 'passes_into_penalty_area',\n",
      "       'passes_dead', 'passes_free_kicks', 'through_balls', 'passes_pressure',\n",
      "       'crosses', 'corner_kicks_in', 'corner_kicks_out', 'passes_high',\n",
      "       'passes_offsides', 'passes_blocked', 'sca_dribbles', 'sca_defense',\n",
      "       'gca_passes_live', 'shots_on_target', 'shots_on_target_pct',\n",
      "       'average_shot_distance', 'cards_yellow', 'cards_red',\n",
      "       'cards_yellow_red', 'fouls', 'pens_won', 'ball_recoveries',\n",
      "       'aerials_won', 'aerials_lost', 'aerials_won_pct'],\n",
      "      dtype='object')\n",
      "<class 'pandas.core.frame.DataFrame'>\n",
      "Int64Index: 1976 entries, 2079 to 382\n",
      "Data columns (total 65 columns):\n",
      " #   Column                           Non-Null Count  Dtype  \n",
      "---  ------                           --------------  -----  \n",
      " 0   venue                            1976 non-null   float64\n",
      " 1   gk_shots_on_target_against       1976 non-null   float64\n",
      " 2   gk_save_pct                      1976 non-null   float64\n",
      " 3   gk_clean_sheets                  1976 non-null   float64\n",
      " 4   gk_psxg                          1976 non-null   float64\n",
      " 5   gk_pens_att                      1976 non-null   float64\n",
      " 6   gk_pens_allowed                  1976 non-null   float64\n",
      " 7   gk_passes_pct_launched           1976 non-null   float64\n",
      " 8   gk_pct_goal_kicks_launched       1976 non-null   float64\n",
      " 9   gk_crosses                       1976 non-null   float64\n",
      " 10  gk_crosses_stopped               1976 non-null   float64\n",
      " 11  gk_def_actions_outside_pen_area  1976 non-null   float64\n",
      " 12  gk_avg_distance_def_actions      1976 non-null   float64\n",
      " 13  tackles_def_3rd                  1976 non-null   float64\n",
      " 14  pressures                        1976 non-null   float64\n",
      " 15  pressure_regain_pct              1976 non-null   float64\n",
      " 16  pressures_def_3rd                1976 non-null   float64\n",
      " 17  pressures_att_3rd                1976 non-null   float64\n",
      " 18  blocks                           1976 non-null   float64\n",
      " 19  errors                           1976 non-null   float64\n",
      " 20  possession                       1976 non-null   float64\n",
      " 21  touches                          1976 non-null   float64\n",
      " 22  touches_def_pen_area             1976 non-null   float64\n",
      " 23  touches_def_3rd                  1976 non-null   float64\n",
      " 24  touches_att_3rd                  1976 non-null   float64\n",
      " 25  touches_att_pen_area             1976 non-null   float64\n",
      " 26  dribbles                         1976 non-null   float64\n",
      " 27  dribbles_completed_pct           1976 non-null   float64\n",
      " 28  players_dribbled_past            1976 non-null   float64\n",
      " 29  carries_into_final_third         1976 non-null   float64\n",
      " 30  carries_into_penalty_area        1976 non-null   float64\n",
      " 31  progressive_passes_received      1976 non-null   float64\n",
      " 32  passes_pct                       1976 non-null   float64\n",
      " 33  passes_progressive_distance      1976 non-null   float64\n",
      " 34  passes_pct_short                 1976 non-null   float64\n",
      " 35  passes_long                      1976 non-null   float64\n",
      " 36  passes_pct_long                  1976 non-null   float64\n",
      " 37  xa                               1976 non-null   float64\n",
      " 38  assisted_shots                   1976 non-null   float64\n",
      " 39  passes_into_penalty_area         1976 non-null   float64\n",
      " 40  passes_dead                      1976 non-null   float64\n",
      " 41  passes_free_kicks                1976 non-null   float64\n",
      " 42  through_balls                    1976 non-null   float64\n",
      " 43  passes_pressure                  1976 non-null   float64\n",
      " 44  crosses                          1976 non-null   float64\n",
      " 45  corner_kicks_in                  1976 non-null   float64\n",
      " 46  corner_kicks_out                 1976 non-null   float64\n",
      " 47  passes_high                      1976 non-null   float64\n",
      " 48  passes_offsides                  1976 non-null   float64\n",
      " 49  passes_blocked                   1976 non-null   float64\n",
      " 50  sca_dribbles                     1976 non-null   float64\n",
      " 51  sca_defense                      1976 non-null   float64\n",
      " 52  gca_passes_live                  1976 non-null   float64\n",
      " 53  shots_on_target                  1976 non-null   float64\n",
      " 54  shots_on_target_pct              1976 non-null   float64\n",
      " 55  average_shot_distance            1976 non-null   float64\n",
      " 56  cards_yellow                     1976 non-null   float64\n",
      " 57  cards_red                        1976 non-null   float64\n",
      " 58  cards_yellow_red                 1976 non-null   float64\n",
      " 59  fouls                            1976 non-null   float64\n",
      " 60  pens_won                         1976 non-null   float64\n",
      " 61  ball_recoveries                  1976 non-null   float64\n",
      " 62  aerials_won                      1976 non-null   float64\n",
      " 63  aerials_lost                     1976 non-null   float64\n",
      " 64  aerials_won_pct                  1976 non-null   float64\n",
      "dtypes: float64(65)\n",
      "memory usage: 1018.9 KB\n"
     ]
    }
   ],
   "source": [
    "### apply corr filter on x_train #### might want to check performance without it\n",
    "#might reduce errors and process time and run time \n",
    "\n",
    "selected_columns, rejected_columns = features_corr_filter(x_train, 0.9)\n",
    "print(selected_columns)\n",
    "x_train = x_train[selected_columns]\n",
    "x_test = x_test[selected_columns]\n",
    "x_train.info()"
   ]
  },
  {
   "cell_type": "code",
   "execution_count": 48,
   "id": "58c99325",
   "metadata": {},
   "outputs": [],
   "source": [
    "#### after all feature selection filtering\n",
    "### now x_train has 77 features (half of the beginning) #### pvalue drop has been made and high corr between features \n"
   ]
  },
  {
   "cell_type": "code",
   "execution_count": 49,
   "id": "ae7e8440",
   "metadata": {},
   "outputs": [],
   "source": [
    "##### now we scale the data with standardscaler ##### prepre it for learning, convert to np array\n",
    "\n",
    "scaler = StandardScaler()\n",
    "x_train_np = x_train.to_numpy()   \n",
    "x_train_np = scaler.fit_transform(x_train_np)\n",
    "\n",
    "x_test_np = x_test.to_numpy()\n",
    "x_test_np = scaler.transform(x_test_np)\n",
    "\n",
    "\n",
    "x_train_df = pd.DataFrame(x_train_np, columns= list(selected_columns)) # df after scaling\n",
    "y_train_np = y_train.to_numpy()\n",
    "\n",
    "y_test_np =  y_test.to_numpy()"
   ]
  },
  {
   "cell_type": "code",
   "execution_count": 363,
   "id": "9cf54760",
   "metadata": {},
   "outputs": [],
   "source": [
    "#### apply classifiers ####\n",
    "\n",
    "# tried three classifiers ligostic reg gave slightly better rsults . yet it seems to not overfit as the otheres and when I chose \n",
    "#newton method the results were great "
   ]
  },
  {
   "cell_type": "code",
   "execution_count": 254,
   "id": "e704497e",
   "metadata": {},
   "outputs": [],
   "source": [
    "#clf = RandomForestClassifier(n_estimators= 100, max_depth=2, random_state=9)\n",
    "#clf.fit(x_train_np, y_train_np)\n",
    "#y_train_pred = clf.predict(x_train_np)"
   ]
  },
  {
   "cell_type": "code",
   "execution_count": 25,
   "id": "bfea0ea4",
   "metadata": {},
   "outputs": [],
   "source": [
    "clf = SGDClassifier(max_iter=2000, tol=1e-3, random_state=9)\n",
    "clf.fit(x_train_np, y_train_np)\n",
    "y_train_pred = clf.predict(x_train_np)"
   ]
  },
  {
   "cell_type": "code",
   "execution_count": 50,
   "id": "8aeb7ba9",
   "metadata": {},
   "outputs": [],
   "source": [
    "clf = LogisticRegression(random_state=9, max_iter=500, solver = 'newton-cg')\n",
    "clf.fit(x_train_np, y_train_np)\n",
    "y_train_pred = clf.predict(x_train_np)"
   ]
  },
  {
   "cell_type": "code",
   "execution_count": 337,
   "id": "794e9d39",
   "metadata": {},
   "outputs": [],
   "source": [
    "#clf = SVC(C=0.001, gamma='auto', random_state=9)\n",
    "#clf.fit(x_train_np, y_train_np)\n",
    "#y_predict = clf.predict(x_train_np)"
   ]
  },
  {
   "cell_type": "code",
   "execution_count": 51,
   "id": "cc3ab57c",
   "metadata": {},
   "outputs": [
    {
     "name": "stdout",
     "output_type": "stream",
     "text": [
      "accuracy : 0.886\n",
      "precision : 0.871\n",
      "recall : 0.854\n",
      "f_1 : 0.862\n"
     ]
    }
   ],
   "source": [
    "#### check the accuracy, precision and recall ###### all feature slection is applied\n",
    "## so far it is the best result because I want high precision , \n",
    "# if the model classified it as a win I want it to missclassify it as much as it can. i dont care if it missclassfies it as a lose \n",
    "\n",
    "precision, recall, f_1, support = precision_recall_fscore_support(y_train_np, y_train_pred, average='binary')\n",
    "accuracy = accuracy_score(y_train_np, y_train_pred,)\n",
    "print('accuracy :', np.round(accuracy,3))\n",
    "print('precision :', np.round(precision,3))\n",
    "print('recall :', np.round(recall,3))\n",
    "print('f_1 :', np.round(f_1,3))\n"
   ]
  },
  {
   "cell_type": "code",
   "execution_count": 52,
   "id": "8bfe99ed",
   "metadata": {},
   "outputs": [
    {
     "name": "stdout",
     "output_type": "stream",
     "text": [
      "cv_avg_accuracy 0.863\n"
     ]
    }
   ],
   "source": [
    "cv_3_accuracy = cross_val_score(clf, x_train , y_train, cv=3, scoring='accuracy')\n",
    "#cv_3_precision = cross_val_score(clf, x_train , y_train, cv=3, scoring='precision')\n",
    "#cv_3_recall = cross_val_score(clf, x_train , y_train, cv=3, scoring='recall')\n",
    "\n",
    "print('cv_avg_accuracy', np.round(cv_3_accuracy.mean(),3))\n",
    "#print('cv_avg_precision', cv_3_precision.mean())\n",
    "#print('cv_avg_recall', cv_3_recall.mean())"
   ]
  },
  {
   "cell_type": "code",
   "execution_count": 288,
   "id": "d40301c8",
   "metadata": {},
   "outputs": [],
   "source": [
    "#print(classification_report(y_train_np, y_predict))"
   ]
  },
  {
   "cell_type": "code",
   "execution_count": 53,
   "id": "43620f0e",
   "metadata": {},
   "outputs": [
    {
     "data": {
      "text/plain": [
       "{'C': 1.0,\n",
       " 'class_weight': None,\n",
       " 'dual': False,\n",
       " 'fit_intercept': True,\n",
       " 'intercept_scaling': 1,\n",
       " 'l1_ratio': None,\n",
       " 'max_iter': 500,\n",
       " 'multi_class': 'auto',\n",
       " 'n_jobs': None,\n",
       " 'penalty': 'l2',\n",
       " 'random_state': 9,\n",
       " 'solver': 'newton-cg',\n",
       " 'tol': 0.0001,\n",
       " 'verbose': 0,\n",
       " 'warm_start': False}"
      ]
     },
     "execution_count": 53,
     "metadata": {},
     "output_type": "execute_result"
    }
   ],
   "source": [
    "clf.get_params()"
   ]
  },
  {
   "cell_type": "code",
   "execution_count": 54,
   "id": "61e57eaa",
   "metadata": {},
   "outputs": [],
   "source": [
    "### predict on TEST SET #####\n",
    "y_test_pred = clf.predict(x_test_np)"
   ]
  },
  {
   "cell_type": "code",
   "execution_count": 56,
   "id": "0856e07c",
   "metadata": {
    "scrolled": true
   },
   "outputs": [
    {
     "name": "stdout",
     "output_type": "stream",
     "text": [
      "accuracy : 0.872\n",
      "precision : 0.862\n",
      "recall : 0.833\n",
      "f_1 : 0.847\n"
     ]
    }
   ],
   "source": [
    "### PREDICTION ASSESMENT ###\n",
    "precision, recall, f_1, support = precision_recall_fscore_support(y_test_np, y_test_pred, average='binary')\n",
    "accuracy = accuracy_score(y_test_np, y_test_pred)\n",
    "print('accuracy :', np.round(accuracy,3))\n",
    "print('precision :', np.round(precision,3))\n",
    "print('recall :', np.round(recall,3))\n",
    "print('f_1 :', np.round(f_1,3))"
   ]
  },
  {
   "cell_type": "code",
   "execution_count": 232,
   "id": "4af38e9b",
   "metadata": {},
   "outputs": [],
   "source": [
    "#x_train_df_scale.hist(bins=50, figsize=(20,15))\n",
    "#plt.show()"
   ]
  },
  {
   "cell_type": "code",
   "execution_count": 149,
   "id": "8bed9eec",
   "metadata": {},
   "outputs": [],
   "source": [
    "#x_train['passes_switches'].hist(bins=50, figsize=(20,15))\n",
    "#plt.show()"
   ]
  },
  {
   "cell_type": "code",
   "execution_count": 157,
   "id": "851acac7",
   "metadata": {},
   "outputs": [],
   "source": [
    "#x_train.nutmegs.value_counts() \n",
    "#x_train['gk_clean_sheets']"
   ]
  },
  {
   "cell_type": "code",
   "execution_count": null,
   "id": "8afb52d4",
   "metadata": {},
   "outputs": [],
   "source": []
  },
  {
   "cell_type": "code",
   "execution_count": null,
   "id": "c07c45cf",
   "metadata": {},
   "outputs": [],
   "source": [
    "#### check model predictions without features elimination "
   ]
  },
  {
   "cell_type": "code",
   "execution_count": null,
   "id": "963f950d",
   "metadata": {},
   "outputs": [],
   "source": []
  },
  {
   "cell_type": "code",
   "execution_count": null,
   "id": "983df892",
   "metadata": {},
   "outputs": [],
   "source": []
  },
  {
   "cell_type": "code",
   "execution_count": null,
   "id": "a6f9e18b",
   "metadata": {},
   "outputs": [],
   "source": []
  },
  {
   "cell_type": "code",
   "execution_count": null,
   "id": "22f32c7c",
   "metadata": {},
   "outputs": [],
   "source": []
  }
 ],
 "metadata": {
  "kernelspec": {
   "display_name": "Python 3 (ipykernel)",
   "language": "python",
   "name": "python3"
  },
  "language_info": {
   "codemirror_mode": {
    "name": "ipython",
    "version": 3
   },
   "file_extension": ".py",
   "mimetype": "text/x-python",
   "name": "python",
   "nbconvert_exporter": "python",
   "pygments_lexer": "ipython3",
   "version": "3.8.10"
  }
 },
 "nbformat": 4,
 "nbformat_minor": 5
}
